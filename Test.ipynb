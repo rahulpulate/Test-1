{
 "cells": [
  {
   "cell_type": "raw",
   "id": "272163ef",
   "metadata": {},
   "source": [
    "# What is python ?"
   ]
  },
  {
   "cell_type": "markdown",
   "id": "8ce46191",
   "metadata": {},
   "source": [
    "Ans - python is high level programming language its is interpriter language it is open source languge"
   ]
  },
  {
   "cell_type": "markdown",
   "id": "359357b5",
   "metadata": {},
   "source": [
    "2. Data Types in python?"
   ]
  },
  {
   "cell_type": "markdown",
   "id": "d41c57e9",
   "metadata": {},
   "source": [
    "int, float,char,bol,list,tuple,complex,disc,"
   ]
  },
  {
   "cell_type": "markdown",
   "id": "050df78d",
   "metadata": {},
   "source": [
    "3. How to comment single line ?\n",
    "\n",
    "Ans - Comment is not a part of code it usng single line \"#\""
   ]
  },
  {
   "cell_type": "markdown",
   "id": "570b642c",
   "metadata": {},
   "source": [
    "4. Difference between list and tuple ?\n",
    "Ans - list is mutable,tuple is unmutable\n",
    "        list using sqaure breaket[] tuple is ()\n",
    "        "
   ]
  },
  {
   "cell_type": "markdown",
   "id": "661639bd",
   "metadata": {},
   "source": [
    "5. What is function in python ?\n",
    "Ans - a function is block of code using specify task"
   ]
  },
  {
   "cell_type": "markdown",
   "id": "55e19a63",
   "metadata": {},
   "source": [
    "6. What is local variable and global variables in python ?\n",
    "\n",
    "Ans - local variable - created inside function \n",
    "        global variable - declered outside function \n"
   ]
  },
  {
   "cell_type": "markdown",
   "id": "042a9b3f",
   "metadata": {},
   "source": [
    "7 . Write a Python program to:\n",
    "Prompt the user to enter an integer.\n",
    "Prompt the user to enter a floating-point number.\n",
    "Prompt the user to enter a string.\n",
    "Display the type of each input.\n",
    "\n",
    "Ans - "
   ]
  },
  {
   "cell_type": "code",
   "execution_count": 3,
   "id": "c5546406",
   "metadata": {},
   "outputs": [
    {
     "name": "stdout",
     "output_type": "stream",
     "text": [
      "please enter the number12\n"
     ]
    },
    {
     "data": {
      "text/plain": [
       "int"
      ]
     },
     "execution_count": 3,
     "metadata": {},
     "output_type": "execute_result"
    }
   ],
   "source": [
    "int_number = int(input(\"please enter the number\"))\n",
    "type(int_number)"
   ]
  },
  {
   "cell_type": "code",
   "execution_count": 4,
   "id": "782edf1b",
   "metadata": {},
   "outputs": [
    {
     "name": "stdout",
     "output_type": "stream",
     "text": [
      "please enter the number1.2\n"
     ]
    },
    {
     "data": {
      "text/plain": [
       "float"
      ]
     },
     "execution_count": 4,
     "metadata": {},
     "output_type": "execute_result"
    }
   ],
   "source": [
    "float_number = float(input(\"please enter the number\"))\n",
    "type(float_number)"
   ]
  },
  {
   "cell_type": "code",
   "execution_count": 6,
   "id": "eeab0db5",
   "metadata": {},
   "outputs": [
    {
     "name": "stdout",
     "output_type": "stream",
     "text": [
      "please enter the namerahul\n"
     ]
    },
    {
     "data": {
      "text/plain": [
       "str"
      ]
     },
     "execution_count": 6,
     "metadata": {},
     "output_type": "execute_result"
    }
   ],
   "source": [
    "str = str(input(\"please enter the name\"))\n",
    "type(str)"
   ]
  },
  {
   "cell_type": "markdown",
   "id": "9c1e09af",
   "metadata": {},
   "source": [
    "8. Write a Python program to print all the even numbers from 1 to 20 using a for loop. If a number\n",
    "is divisible by 4, print \"Divisible by 4\" instead of the number.\n"
   ]
  },
  {
   "cell_type": "code",
   "execution_count": 9,
   "id": "2d1828cb",
   "metadata": {},
   "outputs": [
    {
     "ename": "IndentationError",
     "evalue": "expected an indented block after 'for' statement on line 1 (509786670.py, line 2)",
     "output_type": "error",
     "traceback": [
      "\u001b[1;36m  Cell \u001b[1;32mIn[9], line 2\u001b[1;36m\u001b[0m\n\u001b[1;33m    if num %4 == 0:\u001b[0m\n\u001b[1;37m    ^\u001b[0m\n\u001b[1;31mIndentationError\u001b[0m\u001b[1;31m:\u001b[0m expected an indented block after 'for' statement on line 1\n"
     ]
    }
   ],
   "source": [
    "for num in range(1,21):\n",
    "if num %4 == 0:\n",
    "    print(\"the number is Divisible by 4\")\n",
    "else:\n",
    "    print(num)\n",
    "    "
   ]
  },
  {
   "cell_type": "markdown",
   "id": "1fd53240",
   "metadata": {},
   "source": [
    "9. Write a Python program to find the sum of all numbers between 1 and 100 that are divisible by 3\n",
    "a. Use a while loop.\n"
   ]
  },
  {
   "cell_type": "code",
   "execution_count": null,
   "id": "3db3346a",
   "metadata": {},
   "outputs": [],
   "source": [
    "num = 1\n",
    "sum =0 \n",
    "\n",
    "while num1 <= 100:\n",
    "    if  num %3 ==0:\n",
    "        sum = num + num\n",
    "print(\"sum of all num\")\n",
    "        \n",
    "    "
   ]
  },
  {
   "cell_type": "markdown",
   "id": "eaefbfaa",
   "metadata": {},
   "source": [
    "10. Write a function in Python that takes two parameters, 'a' and 'b', and returns their sum and\n",
    "product.\n"
   ]
  },
  {
   "cell_type": "code",
   "execution_count": null,
   "id": "dc72f8f4",
   "metadata": {},
   "outputs": [],
   "source": [
    "a=5\n",
    "b=5\n",
    "sum = a+b\n",
    "product = a*b\n"
   ]
  },
  {
   "cell_type": "markdown",
   "id": "df4f328b",
   "metadata": {},
   "source": [
    "11. Write a Python program that initializes a list of numbers and then:\n",
    "Prints the sum of all the numbers in the list.\n",
    "Prints the largest and smallest numbers in the list.\n",
    "Prints the list in reverse order"
   ]
  },
  {
   "cell_type": "code",
   "execution_count": null,
   "id": "54f58345",
   "metadata": {},
   "outputs": [],
   "source": []
  },
  {
   "cell_type": "markdown",
   "id": "d8f49838",
   "metadata": {},
   "source": [
    "12. Create a dictionary in Python that represents a student's grades in different subjects. The keys\n",
    "should be subject names, and the values should be the corresponding grades. Write a function\n",
    "that calculates and returns the average grade"
   ]
  },
  {
   "cell_type": "code",
   "execution_count": null,
   "id": "d6a86898",
   "metadata": {},
   "outputs": [],
   "source": []
  },
  {
   "cell_type": "markdown",
   "id": "225922af",
   "metadata": {},
   "source": [
    "13 . Write a Python program that takes two sets and prints the union, intersection, and difference of\n",
    "these sets"
   ]
  },
  {
   "cell_type": "code",
   "execution_count": null,
   "id": "893333dd",
   "metadata": {},
   "outputs": [],
   "source": []
  },
  {
   "cell_type": "markdown",
   "id": "0777e186",
   "metadata": {},
   "source": [
    "14 .Create of Generator function of Generating Cubes.\n"
   ]
  },
  {
   "cell_type": "code",
   "execution_count": null,
   "id": "06a0a1ae",
   "metadata": {},
   "outputs": [],
   "source": []
  },
  {
   "cell_type": "code",
   "execution_count": null,
   "id": "0f2312c5",
   "metadata": {},
   "outputs": [],
   "source": [
    "15.Int object is iterable?\n",
    "\n",
    "Ans - No\n"
   ]
  },
  {
   "cell_type": "code",
   "execution_count": null,
   "id": "3046dd29",
   "metadata": {},
   "outputs": [],
   "source": [
    "16.String object is Iterator?\n",
    "\n",
    "Ans - Yes "
   ]
  }
 ],
 "metadata": {
  "kernelspec": {
   "display_name": "Python 3 (ipykernel)",
   "language": "python",
   "name": "python3"
  },
  "language_info": {
   "codemirror_mode": {
    "name": "ipython",
    "version": 3
   },
   "file_extension": ".py",
   "mimetype": "text/x-python",
   "name": "python",
   "nbconvert_exporter": "python",
   "pygments_lexer": "ipython3",
   "version": "3.11.3"
  }
 },
 "nbformat": 4,
 "nbformat_minor": 5
}
